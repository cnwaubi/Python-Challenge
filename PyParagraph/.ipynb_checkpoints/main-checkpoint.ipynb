{
 "cells": [
  {
   "cell_type": "code",
   "execution_count": 8,
   "metadata": {},
   "outputs": [],
   "source": [
    "#Dependencies\n",
    "import os\n",
    "import string"
   ]
  },
  {
   "cell_type": "code",
   "execution_count": 9,
   "metadata": {},
   "outputs": [],
   "source": [
    "#sets file\n",
    "textpath = os.path.join('..','PyParagraph','Resources','raw_data','paragraph_1.txt')"
   ]
  },
  {
   "cell_type": "code",
   "execution_count": 10,
   "metadata": {},
   "outputs": [],
   "source": [
    "#Opens and reads file and saves text as a paragraph string\n",
    "paragraph_str = ''\n",
    "with open(textpath,'r') as txtfile:\n",
    "    paragraph_str = txtfile.read()"
   ]
  },
  {
   "cell_type": "code",
   "execution_count": 11,
   "metadata": {},
   "outputs": [],
   "source": [
    "#Sentence count by counting .,?, and ! as sentences\n",
    "sen_count = paragraph_str.count('.') + paragraph_str.count('?') + paragraph_str.count('!')\n",
    "#creates a string of upper and lowercase letters\n",
    "letters = string.ascii_letters + \" \"\n",
    "#loop through paragraph string and removes all characters \n",
    "#that are not letters replacing with nothing \n",
    "for c in paragraph_str:\n",
    "    if c not in letters:\n",
    "        paragraph_str = paragraph_str.replace(c,'')"
   ]
  },
  {
   "cell_type": "code",
   "execution_count": 12,
   "metadata": {},
   "outputs": [],
   "source": [
    "#reassigns the paragraph string and makes a list of words by splitting at spaces\n",
    "paragraph_list = paragraph_str.split(\" \")\n",
    "#counts all of the letters in list paragraph\n",
    "letter_total = 0\n",
    "\n",
    "for word in paragraph_list:\n",
    "    letter_total += len(word)\n",
    " #counts words by counting the length of paragraph list   \n",
    "word_count = len(paragraph_list)\n",
    "#calculates average word length by dividing the total# of letters\n",
    "#by the number of words\n",
    "avg_word_length = letter_total/word_count\n",
    "#calculates words per sentence by dividing the number of words by the number of sentences.\n",
    "words_per_sentence = word_count/sen_count\n",
    "\n",
    "output_file = os.path.join('..','PyParagraph','Paragraph_Analysis','Analysis.txt')\n",
    "#sets output file\n",
    "with open(output_file, 'w') as txtfile:\n",
    "    txtfile.writelines('Paragraph Analysis\\n--------------------\\nApproximaate word count: '\n",
    "                      + str(word_count)+ '\\nApproximate Sentence Count: '+ str(sen_count) + '\\nAverage Letter Count: ' + str(avg_word_length)\n",
    "                      + '\\nAverage Sentence Length: ' + str(words_per_sentence))"
   ]
  },
  {
   "cell_type": "code",
   "execution_count": 13,
   "metadata": {},
   "outputs": [
    {
     "name": "stdout",
     "output_type": "stream",
     "text": [
      "Paragraph Analysis\n",
      "--------------------\n",
      "Approximaate word count: 130\n",
      "Approximate Sentence Count: 5\n",
      "Average Letter Count: 6.246153846153846\n",
      "Average Sentence Length: 26.0\n"
     ]
    }
   ],
   "source": [
    "#opens output file and prints to terminal\n",
    "with open (output_file, 'r') as txtout:\n",
    "    print(txtout.read())"
   ]
  }
 ],
 "metadata": {
  "kernelspec": {
   "display_name": "Python 3",
   "language": "python",
   "name": "python3"
  },
  "language_info": {
   "codemirror_mode": {
    "name": "ipython",
    "version": 3
   },
   "file_extension": ".py",
   "mimetype": "text/x-python",
   "name": "python",
   "nbconvert_exporter": "python",
   "pygments_lexer": "ipython3",
   "version": "3.7.1"
  }
 },
 "nbformat": 4,
 "nbformat_minor": 2
}
